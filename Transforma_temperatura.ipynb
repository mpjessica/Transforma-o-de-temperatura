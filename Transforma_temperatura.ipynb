{
  "cells": [
    {
      "cell_type": "code",
      "source": [
        "# Usuário insere as informações por meio do input\n",
        "temperatura = float(input(\"Informe apenas o valor da temperatura: \"))\n",
        "escala_original = (input(\"Informe qual a escala de temperatura que esse valor se encontra\\nC = Celsius\\nK = Kelvin\\nF = Fahrenheit \"))\n",
        "escala_original = escala_original.upper().strip()\n",
        "escala_convertida = (input(\"Informe para qual escala você deseja converter a temperatura\\nC = Celsius\\nK = Kelvin\\nF = Fahrenheit \"))\n",
        "escala_convertida = escala_convertida.upper().strip()\n",
        "# Usando as funções upper e strip para colocar os inputs utilizados pelo usuário em letra maiúscula e sem espaços\n",
        "\n",
        "# Utilizando if e elif, pois se a condição anterior não é satisfeita, a próxima condição é avaliada.\n",
        "if escala_original == \"C\" and escala_convertida == \"F\":\n",
        "  temperatura_conv = (temperatura*9/5) + 32\n",
        "elif escala_original == \"C\" and escala_convertida == \"K\":\n",
        "  temperatura_conv = temperatura + 273\n",
        "elif escala_original == \"F\" and escala_convertida == \"C\":\n",
        "  temperatura_conv = 5* ((temperatura - 32)/9)\n",
        "elif escala_original == \"F\" and escala_convertida == \"K\":\n",
        "  temperatura_conv = 9* ((temperatura - 273)/5) +32\n",
        "elif escala_original == \"K\" and escala_convertida == \"C\" and temperatura >= 0: # Como não existe temperatura negativa em kelvin, a temperatura original é maior ou igual a 0\n",
        "  temperatura_conv = temperatura - 273\n",
        "elif escala_original == \"K\" and escala_convertida == \"F\" and temperatura >= 0:\n",
        "  temperatura_conv = 5* ((temperatura - 32)/9) + 273\n",
        "\n",
        "\n",
        "print(f\"A temperatura em {temperatura} {escala_original} é em {temperatura_conv} {escala_convertida}\")"
      ],
      "metadata": {
        "colab": {
          "base_uri": "https://localhost:8080/"
        },
        "id": "Ylqgngc770Ok",
        "outputId": "921f0853-4f45-4cd0-b695-2c808a67ddb4"
      },
      "id": "Ylqgngc770Ok",
      "execution_count": null,
      "outputs": [
        {
          "output_type": "stream",
          "name": "stdout",
          "text": [
            "Informe apenas o valor da temperatura: 10\n",
            "Informe qual a escala de temperatura que esse valor se encontra\n",
            "C = Celsius\n",
            "K = Kelvin\n",
            "F = Fahrenheit K\n",
            "Informe para qual escala você deseja converter a temperatura\n",
            "C = Celsius\n",
            "K = Kelvin\n",
            "F = Fahrenheit C\n",
            "A temperatura em 10.0 K é em -263.0 C\n"
          ]
        }
      ]
    }
  ],
  "metadata": {
    "kernelspec": {
      "display_name": "Python 3 (ipykernel)",
      "language": "python",
      "name": "python3"
    },
    "language_info": {
      "codemirror_mode": {
        "name": "ipython",
        "version": 3
      },
      "file_extension": ".py",
      "mimetype": "text/x-python",
      "name": "python",
      "nbconvert_exporter": "python",
      "pygments_lexer": "ipython3",
      "version": "3.7.13"
    },
    "varInspector": {
      "cols": {
        "lenName": 16,
        "lenType": 16,
        "lenVar": 40
      },
      "kernels_config": {
        "python": {
          "delete_cmd_postfix": "",
          "delete_cmd_prefix": "del ",
          "library": "var_list.py",
          "varRefreshCmd": "print(var_dic_list())"
        },
        "r": {
          "delete_cmd_postfix": ") ",
          "delete_cmd_prefix": "rm(",
          "library": "var_list.r",
          "varRefreshCmd": "cat(var_dic_list()) "
        }
      },
      "types_to_exclude": [
        "module",
        "function",
        "builtin_function_or_method",
        "instance",
        "_Feature"
      ],
      "window_display": false
    },
    "colab": {
      "provenance": []
    }
  },
  "nbformat": 4,
  "nbformat_minor": 5
}